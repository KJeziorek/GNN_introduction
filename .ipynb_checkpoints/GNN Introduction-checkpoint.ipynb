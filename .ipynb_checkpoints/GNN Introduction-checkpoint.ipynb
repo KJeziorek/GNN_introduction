{
 "cells": [
  {
   "cell_type": "code",
   "execution_count": 1,
   "id": "b13d82ce-c8db-482b-b726-1e332b239eaa",
   "metadata": {},
   "outputs": [],
   "source": [
    "import numpy as np\n",
    "\n",
    "import torch\n",
    "import torch_geometric\n",
    "\n",
    "seed = 12345\n",
    "\n",
    "np.random.seed(seed)\n",
    "torch.manual_seed(seed)\n",
    "torch.cuda.manual_seed_all(seed)"
   ]
  },
  {
   "cell_type": "markdown",
   "id": "0350be61-ce4b-470d-b54f-c6842d2a2c3c",
   "metadata": {},
   "source": [
    "# Generacja zdarzeń\n",
    "Na początku weźmy dla przykładu cztery zdarzenia dla pikselów XY = [[0, 0], [0, 1], [1, 0], [1, 1]], z czasami T [0, 0.1, 0.2, 0.3] oraz atrybutami P [5, 6, 7, 8]. Generujemy tensor zdarzeń [ev0, ev1, ev2, ev3]."
   ]
  },
  {
   "cell_type": "code",
   "execution_count": 2,
   "id": "1e7ff8c9-2f99-4365-9b1f-61f2fac409dd",
   "metadata": {},
   "outputs": [
    {
     "name": "stdout",
     "output_type": "stream",
     "text": [
      "tensor([[0.0000, 0.0000, 0.0000, 5.0000],\n",
      "        [0.0000, 1.0000, 0.1000, 6.0000],\n",
      "        [1.0000, 0.0000, 0.2000, 7.0000],\n",
      "        [1.0000, 1.0000, 0.3000, 8.0000]])\n"
     ]
    }
   ],
   "source": [
    "# Tworzenie 4 różnych zdarzeń\n",
    "ev0 = [0, 0, 0, 5]\n",
    "ev1 = [0, 1, 0.1, 6]\n",
    "ev2 = [1, 0, 0.2, 7]\n",
    "ev3 = [1, 1, 0.3, 8]\n",
    "\n",
    "# Tworzenie wektora/tensora zdarzeń\n",
    "events = torch.tensor([ev0, ev1, ev2, ev3])\n",
    "print(events)"
   ]
  },
  {
   "cell_type": "markdown",
   "id": "a43f5a30-794c-4225-a6e5-49b79af0ac6b",
   "metadata": {},
   "source": [
    "Z każdego zdarzenia tworzymy wierzchołki grafu o pozycji pos = [X, Y, T] oraz wartości x = [P]. Zapisujemy to w formacie Data z biblioteki PyTorch Geometric."
   ]
  },
  {
   "cell_type": "code",
   "execution_count": 3,
   "id": "b3dca5a6-1db0-4437-8f9b-0ce2aced1355",
   "metadata": {},
   "outputs": [
    {
     "name": "stdout",
     "output_type": "stream",
     "text": [
      "Cały format danych:  Data(x=[4, 1], pos=[4, 3])\n",
      "Atrybuty wierzchołków:  tensor([[5.],\n",
      "        [6.],\n",
      "        [7.],\n",
      "        [8.]])\n",
      "Pozycje wierzchołków:  tensor([[0.0000, 0.0000, 0.0000],\n",
      "        [0.0000, 1.0000, 0.1000],\n",
      "        [1.0000, 0.0000, 0.2000],\n",
      "        [1.0000, 1.0000, 0.3000]])\n"
     ]
    }
   ],
   "source": [
    "from torch_geometric.data import Data\n",
    "\n",
    "x, pos = events[:, -1:], events[:, :3]\n",
    "data = Data(x=x, pos=pos)\n",
    "\n",
    "print('Cały format danych: ', data)\n",
    "print('Atrybuty wierzchołków: ', data.x)\n",
    "print('Pozycje wierzchołków: ', data.pos)"
   ]
  },
  {
   "cell_type": "markdown",
   "id": "3bc54978-40bc-43d7-bd06-c007400af6ff",
   "metadata": {},
   "source": [
    "Teraz \"generujemy\" krawędzie pomiędzy wierzchołkami/zdarzeniami. Na początku tworzymy graf skierowany, gdzie zdarzenia ev1, ev2 oraz ev3 są skierowane w stronę zdarzenia ev0. Oznacza to, że informacje będą propagowane od wierzchołków ev1, ev2, ev3 do ev0 -> tylko ev0 zmieni swoją wartość x.\n",
    "\n",
    "Pierwszy wiersz odnosi się do indeksu wierzchołka, z którego wychodzi krawędź, a drugi wiersz wierzchołek docelowy. Indeksy odnoszą się do wektora x oraz pos."
   ]
  },
  {
   "cell_type": "code",
   "execution_count": 4,
   "id": "de16f2c5-f11a-4b6b-8b43-b5269c9b3f5f",
   "metadata": {},
   "outputs": [
    {
     "name": "stdout",
     "output_type": "stream",
     "text": [
      "Cały format danych:  Data(x=[4, 1], pos=[4, 3], edge_index=[2, 3])\n",
      "Indeksy sąsiedztwa:  tensor([[1, 2, 3],\n",
      "        [0, 0, 0]])\n"
     ]
    }
   ],
   "source": [
    "edge_index = torch.tensor([[1, 2, 3], [0, 0, 0]])\n",
    "data.edge_index = edge_index\n",
    "\n",
    "print('Cały format danych: ', data)\n",
    "print('Indeksy sąsiedztwa: ', data.edge_index)"
   ]
  },
  {
   "cell_type": "markdown",
   "id": "76338f37-12b1-4ec3-bbcf-0922a33d294b",
   "metadata": {},
   "source": [
    "# Warstwy konwolucyjne - PointNetConv"
   ]
  },
  {
   "cell_type": "markdown",
   "id": "aabc0c89-19a6-4d07-91f3-fa34d6022203",
   "metadata": {},
   "source": [
    "Ogólna zasada działania warstw konwolucyjnych na grafie określa propagację informacji do wierzchołka grafu na podstawie wartości sąsiadujących wierzchołków oraz wartości krawędzi ich łączących (obie wartości są opcjonalne). Konwolucja definiowana jest w 3 funkcjach:\n",
    "- message function - tworzy ona wiadomość (informację) dla dla każdego sąsiadującego wierzchołka, która następnie zostanie przesłana do aktualnego wierzchołka.\n",
    "- aggregation function - na podstawie wiadomości (informacji) uzyskanych przez wszystkich sąsiadów, agreguje je do jednej wartości, która zostanie wykorzystana do aktualizacji wierzchołka. Przeważnie są to funkcje max, min, mean z wszystkich wartości od sąsiadów.\n",
    "- update function - aktualizuje ona informację danego wierzchołka na podstawie zagregowanych informacji.\n",
    "\n",
    "Jest to ogólny zarys działania konwolucji na grafie. Możliwe są różne wariancje tych funkcji, mogą one być opcjonalne, oraz wykorzystane informację zależą od reprezentacji.\n",
    "\n",
    "Jest wiele różnych stron, które to dokładniej tłumaczą:\n",
    "- https://danielegrattarola.github.io/posts/2021-03-12/gnn-lecture-part-2.html\n",
    "- https://pytorch-geometric.readthedocs.io/en/latest/tutorial/create_gnn.html\n",
    "\n",
    "Teraz tworzymy klasę warstwy konwolucyjnej. My raczej będziemy korzystać z konwolucji PointNetConv - jest ona prosta, szybka, dostosowana do przetwarzania danych typu PointCloud. Taka warstwa PointNetConv przyjmuje 3 argumenty:\n",
    "- local_nn - jest to warstwa wejściowa typu MLP, która mapuje dane wejściowe sąsiada równe (x oraz różnicy pos sąsiada względem docelowego wierzchołka\n",
    "- global_nn - jest to warstwa wyjściowa typu MLP, przetwarza dane po funckji agregacji, które nadpiszą x sąsiada\n",
    "- add_self_loop - dodaje do wektora sąsiedztwa dla każdego wierzchołka połączenie ze sobą, tzn (idx_ev0, idx_ev0)\n",
    "\n",
    "Dokładny opis tej konwolucji jest w dokumentacji:\n",
    "https://pytorch-geometric.readthedocs.io/en/latest/generated/torch_geometric.nn.conv.PointNetConv.html\n",
    "\n",
    "oraz jego implementacja w pythonie:\n",
    "https://pytorch-geometric.readthedocs.io/en/latest/_modules/torch_geometric/nn/conv/point_conv.html#PointNetConv"
   ]
  },
  {
   "cell_type": "code",
   "execution_count": 5,
   "id": "81b2d73f-860a-4b1c-90f4-45303fb6c276",
   "metadata": {},
   "outputs": [],
   "source": [
    "from torch.nn import Linear\n",
    "from torch.nn.functional import relu\n",
    "from torch_geometric.nn.conv import PointNetConv\n",
    "from torch_geometric.nn.norm import BatchNorm\n",
    "\n",
    "class PointNetBlock(torch.nn.Module):\n",
    "    def __init__(self, in_channels, out_channels, add_loop):\n",
    "        super().__init__()\n",
    "\n",
    "        self.local_nn = Linear(in_channels + 3, out_channels)\n",
    "        self.conv = PointNetConv(self.local_nn, add_self_loops=add_loop)\n",
    "        self.norm = BatchNorm(in_channels = out_channels)\n",
    "\n",
    "    def forward(self, x, pos, edge_index):\n",
    "        x = self.conv(x, pos, edge_index)\n",
    "\n",
    "        # Na wyjściu takiej warstwy mamy aktualizację wartości x. Można ją poddać aktywacji funkcji oraz normalizacji:\n",
    "        # x = relu(x)      # Activation\n",
    "        # x = self.norm(x) # Normalization \n",
    "        return x"
   ]
  },
  {
   "cell_type": "markdown",
   "id": "3e949c88-0722-4a0b-a7e8-52f304f12880",
   "metadata": {},
   "source": [
    "Tworzymy pojedynczą warstwę konwolucyjną przy założeniu, że nie dodajemy self_loops. Możemy określić ilość wejść (pierwsza warstwa ma tylko jedną cechę x dla każdego wierzchołka) oraz wyjściową ilość cech. Na razie ustalimy przejście z 1 -> 1.\n",
    "\n",
    "Podajemy jako wejście sieci wartości x, pos oraz krawędzie edge_index grafu wejściowego. W wyniku dostajemu zaktualizowane wartości x."
   ]
  },
  {
   "cell_type": "code",
   "execution_count": 8,
   "id": "bb04060b-e8a9-4877-a542-10ada5c6b234",
   "metadata": {},
   "outputs": [
    {
     "name": "stdout",
     "output_type": "stream",
     "text": [
      "tensor([[5.],\n",
      "        [6.],\n",
      "        [7.],\n",
      "        [8.]])\n",
      "tensor([[-2.1661],\n",
      "        [ 0.0000],\n",
      "        [ 0.0000],\n",
      "        [ 0.0000]], grad_fn=<ScatterReduceBackward0>)\n"
     ]
    }
   ],
   "source": [
    "conv = PointNetBlock(1, 1, False)\n",
    "\n",
    "new_x = conv(data.x, data.pos, data.edge_index)\n",
    "\n",
    "print(data.x)\n",
    "print(new_x)"
   ]
  },
  {
   "cell_type": "markdown",
   "id": "90c91fb8-6fbc-4efb-a63f-b33219fb8f0b",
   "metadata": {},
   "source": [
    "Tutaj spróbujemy zrobić dokładnie to samo, ale z przejściem 1 -> 4:"
   ]
  },
  {
   "cell_type": "code",
   "execution_count": 9,
   "id": "fbbf33ca-febf-4b04-b8fc-17ceab273e87",
   "metadata": {},
   "outputs": [
    {
     "name": "stdout",
     "output_type": "stream",
     "text": [
      "tensor([[5.],\n",
      "        [6.],\n",
      "        [7.],\n",
      "        [8.]])\n",
      "tensor([[-3.0979, -0.5534, -1.2027,  0.8512],\n",
      "        [ 0.0000,  0.0000,  0.0000,  0.0000],\n",
      "        [ 0.0000,  0.0000,  0.0000,  0.0000],\n",
      "        [ 0.0000,  0.0000,  0.0000,  0.0000]],\n",
      "       grad_fn=<ScatterReduceBackward0>)\n"
     ]
    }
   ],
   "source": [
    "conv = PointNetBlock(1, 4, False)\n",
    "\n",
    "new_x = conv(data.x, data.pos, data.edge_index)\n",
    "\n",
    "print(data.x)\n",
    "print(new_x)"
   ]
  },
  {
   "cell_type": "markdown",
   "id": "1860bc7b-35d0-485b-a61d-498d5d3b9301",
   "metadata": {},
   "source": [
    "Ponieważ krawędzie tworzą graf skierowany, gdzie wierzchołek pierwszy, drugi i trzeci skierowane są w stronę wierzchołka zerowego, tylko wierzchołek zerowy ma aktualizowaną wartość. \n",
    "\n",
    "Implementacja takich warstw najpierw generuje wektor wyjściowy zerowy a następnie go aktualizuje odpowiednio na podstawie wyniku konwolucji dla wierzchołkow, które mają sąsiadów. Ponieważ pozostałe wierzchołki nie mają żadnego sąsiada, aby mogłaby zostać zaktualizowana wartość, pozostają one zerowe.\n",
    "\n",
    "Można spróbować ręcznie zduplikować wartości, aby nie były zerami, tylko wartościami przed konwolucją:"
   ]
  },
  {
   "cell_type": "code",
   "execution_count": 10,
   "id": "fa32f1c0-f51f-4b33-8899-3f8c3c0c2b31",
   "metadata": {},
   "outputs": [
    {
     "name": "stdout",
     "output_type": "stream",
     "text": [
      "tensor([[-3.0979, -0.5534, -1.2027,  0.8512],\n",
      "        [ 6.0000,  6.0000,  6.0000,  6.0000],\n",
      "        [ 7.0000,  7.0000,  7.0000,  7.0000],\n",
      "        [ 8.0000,  8.0000,  8.0000,  8.0000]], grad_fn=<CopySlices>)\n"
     ]
    }
   ],
   "source": [
    "new_x[1:, :] = data.x[1:] # Uwzględniamy tylko indeksy tych wierzchołków, które nie były zmienione\n",
    "print(new_x)"
   ]
  },
  {
   "cell_type": "markdown",
   "id": "ba3b9b6f-9477-4d88-893f-803f061b17f5",
   "metadata": {},
   "source": [
    "W przypadku self_loop = True nie ma takiego problemu, ponieważ każdy wierzchołek będzie miał minimum jednego sąsiada - samego siebie."
   ]
  },
  {
   "cell_type": "code",
   "execution_count": 11,
   "id": "46d37225-7274-48b6-bed8-93e765a729f4",
   "metadata": {},
   "outputs": [
    {
     "name": "stdout",
     "output_type": "stream",
     "text": [
      "tensor([[5.],\n",
      "        [6.],\n",
      "        [7.],\n",
      "        [8.]])\n",
      "tensor([[ 2.4808, -1.2056, -0.7681, -2.4180],\n",
      "        [ 1.3959, -1.5472, -0.8319, -2.8610],\n",
      "        [ 1.6172, -1.7461, -0.8958, -3.3039],\n",
      "        [ 1.8385, -1.9450, -0.9596, -3.7469]],\n",
      "       grad_fn=<ScatterReduceBackward0>)\n"
     ]
    }
   ],
   "source": [
    "conv = PointNetBlock(1, 4, True)\n",
    "\n",
    "new_x = conv(data.x, data.pos, data.edge_index)\n",
    "\n",
    "print(data.x)\n",
    "print(new_x)"
   ]
  },
  {
   "cell_type": "markdown",
   "id": "a3f36f91-8751-49d4-ae91-9a6a6104d674",
   "metadata": {},
   "source": [
    "# Generacja grafu - rzeczywiste dane"
   ]
  },
  {
   "cell_type": "code",
   "execution_count": null,
   "id": "e7c2d4e6-7548-4327-ae5b-fb062b2e2f37",
   "metadata": {},
   "outputs": [],
   "source": []
  }
 ],
 "metadata": {
  "kernelspec": {
   "display_name": "Python 3 (ipykernel)",
   "language": "python",
   "name": "python3"
  },
  "language_info": {
   "codemirror_mode": {
    "name": "ipython",
    "version": 3
   },
   "file_extension": ".py",
   "mimetype": "text/x-python",
   "name": "python",
   "nbconvert_exporter": "python",
   "pygments_lexer": "ipython3",
   "version": "3.9.18"
  }
 },
 "nbformat": 4,
 "nbformat_minor": 5
}
